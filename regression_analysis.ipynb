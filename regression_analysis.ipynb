{
 "cells": [
  {
   "cell_type": "markdown",
   "metadata": {},
   "source": [
    "Consider the data set you have received in your e-mail, which is of the form (t,y(t)). Try\n",
    "to fit the following model to the given data set:\n",
    "y(t) = α1 + α2eβt + \u000f(t).\n",
    "Let us assume that {\u000f(t)}is a sequence of i.i.d. normal random variable with mean zero and\n",
    "finite variance. Analyze the data keeping the following points in mind, and write a report\n",
    "based on that.\n",
    "1. Plot the data.\n",
    "2. Plot the residual sum of squares as a function of β.\n",
    "3. Find the least squares estimators of α1, α2 and β based on the Gauss-Newton method.\n",
    "Clearly mention which initial value you are taking? Does your result affect by the\n",
    "choice of the initial guess?\n",
    "4. Find the estimate of σ2.\n",
    "5. Find the associated confidence intervals based on the Fisher information matrix.\n",
    "6. Plot the residuals.\n",
    "7. Test whether it satisfies the normality assumption or not?\n",
    "8. Use any standard package (say R) and try to obtain the least squares estimators of\n",
    "the unknown parameters based on three dimensional optimization problem. Repeat\n",
    "all the above questions. Indicate which initial values you are taking and why?\n",
    "9. What will you do to fit the following model\n",
    "y(t) = α1eβ1t + α2eβ2t + \u000f(t),\n",
    "to the same data set? Let us assume that \u000f(t) satisfies the same assumption as above.\n",
    "1"
   ]
  },
  {
   "cell_type": "markdown",
   "metadata": {},
   "source": [
    "### setup"
   ]
  },
  {
   "cell_type": "code",
   "execution_count": 1,
   "metadata": {},
   "outputs": [
    {
     "name": "stderr",
     "output_type": "stream",
     "text": [
      "/home/sunild/anaconda3/lib/python3.8/site-packages/patsy/constraint.py:13: DeprecationWarning: Using or importing the ABCs from 'collections' instead of from 'collections.abc' is deprecated since Python 3.3, and in 3.9 it will stop working\n",
      "  from collections import Mapping\n",
      "/home/sunild/anaconda3/lib/python3.8/site-packages/matplotlib_inline/config.py:66: DeprecationWarning: InlineBackend._figure_formats_changed is deprecated in traitlets 4.1: use @observe and @unobserve instead.\n",
      "  def _figure_formats_changed(self, name, old, new):\n"
     ]
    }
   ],
   "source": [
    "import pandas as pd\n",
    "import numpy as np\n",
    "import statsmodels.api as sm\n",
    "import statsmodels.formula.api as smf\n",
    "from scipy import stats\n",
    "import matplotlib.pyplot as plt"
   ]
  },
  {
   "cell_type": "code",
   "execution_count": 2,
   "metadata": {},
   "outputs": [],
   "source": [
    "\n",
    "data=pd.read_csv('data-39.txt',header=None,sep=r'\\s+')\n",
    "# use regex expressions"
   ]
  },
  {
   "cell_type": "code",
   "execution_count": 3,
   "metadata": {},
   "outputs": [],
   "source": [
    "x=data.iloc[:,0]\n",
    "y=data.iloc[:,1]"
   ]
  },
  {
   "cell_type": "code",
   "execution_count": 4,
   "metadata": {},
   "outputs": [
    {
     "data": {
      "text/html": [
       "<div>\n",
       "<style scoped>\n",
       "    .dataframe tbody tr th:only-of-type {\n",
       "        vertical-align: middle;\n",
       "    }\n",
       "\n",
       "    .dataframe tbody tr th {\n",
       "        vertical-align: top;\n",
       "    }\n",
       "\n",
       "    .dataframe thead th {\n",
       "        text-align: right;\n",
       "    }\n",
       "</style>\n",
       "<table border=\"1\" class=\"dataframe\">\n",
       "  <thead>\n",
       "    <tr style=\"text-align: right;\">\n",
       "      <th></th>\n",
       "      <th>0</th>\n",
       "      <th>1</th>\n",
       "    </tr>\n",
       "  </thead>\n",
       "  <tbody>\n",
       "    <tr>\n",
       "      <th>0</th>\n",
       "      <td>0.02</td>\n",
       "      <td>2.3031</td>\n",
       "    </tr>\n",
       "    <tr>\n",
       "      <th>1</th>\n",
       "      <td>0.03</td>\n",
       "      <td>2.3992</td>\n",
       "    </tr>\n",
       "    <tr>\n",
       "      <th>2</th>\n",
       "      <td>0.05</td>\n",
       "      <td>2.3923</td>\n",
       "    </tr>\n",
       "    <tr>\n",
       "      <th>3</th>\n",
       "      <td>0.06</td>\n",
       "      <td>2.4571</td>\n",
       "    </tr>\n",
       "    <tr>\n",
       "      <th>4</th>\n",
       "      <td>0.08</td>\n",
       "      <td>2.3859</td>\n",
       "    </tr>\n",
       "  </tbody>\n",
       "</table>\n",
       "</div>"
      ],
      "text/plain": [
       "      0       1\n",
       "0  0.02  2.3031\n",
       "1  0.03  2.3992\n",
       "2  0.05  2.3923\n",
       "3  0.06  2.4571\n",
       "4  0.08  2.3859"
      ]
     },
     "execution_count": 4,
     "metadata": {},
     "output_type": "execute_result"
    }
   ],
   "source": [
    "data.head()"
   ]
  },
  {
   "cell_type": "markdown",
   "metadata": {},
   "source": [
    "### 1"
   ]
  },
  {
   "cell_type": "code",
   "execution_count": 5,
   "metadata": {},
   "outputs": [
    {
     "data": {
      "image/png": "[encoded data removed]",
      "text/plain": [
       "<Figure size 432x288 with 1 Axes>"
      ]
     },
     "metadata": {
      "needs_background": "light"
     },
     "output_type": "display_data"
    }
   ],
   "source": [
    "plt.plot(x,y,c='m')\n",
    "plt.xlabel('t')\n",
    "plt.ylabel('y(t)')\n",
    "plt.show()"
   ]
  },
  {
   "cell_type": "markdown",
   "metadata": {},
   "source": [
    "### 2"
   ]
  },
  {
   "cell_type": "code",
   "execution_count": 6,
   "metadata": {},
   "outputs": [],
   "source": [
    "'''how one chooses which beta points to consider'''\n",
    "beta_points=np.linspace(25,36.1,100) \n",
    "sse_points=[]\n",
    "for beta_fixed in beta_points:\n",
    "    x_fixed=np.exp(beta_fixed*x)\n",
    "    y_fixed=y\n",
    "    tmp_data=pd.DataFrame({'t':x_fixed,'y_t':y_fixed})\n",
    "    model=smf.ols('y_t ~ t',tmp_data).fit()\n",
    "    sse_value=sum((model.fittedvalues-np.mean(tmp_data['y_t']))**2)\n",
    "    sse_points.append(sse_value)"
   ]
  },
  {
   "cell_type": "code",
   "execution_count": 7,
   "metadata": {},
   "outputs": [
    {
     "data": {
      "image/png": "[encoded data removed]",
      "text/plain": [
       "<Figure size 432x288 with 1 Axes>"
      ]
     },
     "metadata": {
      "needs_background": "light"
     },
     "output_type": "display_data"
    }
   ],
   "source": [
    "plt.plot(beta_points,sse_points)\n",
    "plt.show()"
   ]
  },
  {
   "cell_type": "markdown",
   "metadata": {},
   "source": [
    "### 3"
   ]
  },
  {
   "cell_type": "code",
   "execution_count": 69,
   "metadata": {},
   "outputs": [],
   "source": [
    "def gauss_newton(start_theta,n_iter=100):\n",
    "    curr_theta=start_theta\n",
    "    thetas_values=[curr_theta]\n",
    "    for i in range(n_iter):\n",
    "        # print(i)\n",
    "        curr_alpha1=curr_theta[0]\n",
    "        curr_alpha2=curr_theta[1]\n",
    "        curr_beta=curr_theta[2]\n",
    "\n",
    "        e_beta1=sum(np.exp(curr_beta*x))\n",
    "        e_beta2=sum(np.exp(2*curr_beta*x))\n",
    "        \n",
    "        C_matrix=np.array([\n",
    "            [len(x),e_beta1,curr_beta*curr_alpha2*e_beta1],\n",
    "            [e_beta1,e_beta2,curr_beta*curr_alpha2*e_beta2],\n",
    "            [curr_beta*curr_alpha2*e_beta1,curr_beta*curr_alpha2*e_beta2,(curr_beta**2)*(curr_alpha2**2)*e_beta2]\n",
    "        ])\n",
    "        F_matrix=np.array([\n",
    "            [1]*len(x),\n",
    "            np.exp(curr_beta*x),\n",
    "            curr_beta*curr_alpha2*np.exp(curr_beta*x)\n",
    "        ])\n",
    "        curr_theta=curr_theta+np.dot(np.dot(np.linalg.inv(C_matrix),F_matrix),np.array(y-(curr_alpha1+curr_alpha2*np.exp(curr_beta*x))))\n",
    "        thetas_values.append(curr_theta)\n",
    "    return thetas_values"
   ]
  },
  {
   "cell_type": "code",
   "execution_count": 81,
   "metadata": {},
   "outputs": [
    {
     "data": {
      "text/plain": [
       "array([1.26089127, 1.09654455, 1.48974118])"
      ]
     },
     "execution_count": 81,
     "metadata": {},
     "output_type": "execute_result"
    }
   ],
   "source": [
    "theta_estimate=gauss_newton(np.array([3,0.2,2.5]))[-1]"
   ]
  },
  {
   "cell_type": "markdown",
   "metadata": {},
   "source": [
    "TODO: Solve singualr matrix issue with a good start value"
   ]
  },
  {
   "cell_type": "markdown",
   "metadata": {},
   "source": [
    "- it is very sensetive to the starting value of theta\n",
    "- how do we get good starting value for this method\n",
    "    - might use linear algebra estimated values; or might use values that are near to linear-model fitted values\n",
    "- theoratically we should converge if we have good start and give algo enough time to run "
   ]
  },
  {
   "cell_type": "markdown",
   "metadata": {},
   "source": [
    "### 4"
   ]
  },
  {
   "cell_type": "markdown",
   "metadata": {},
   "source": [
    "$$\\hat{\\sigma^2}=\\frac{1}{n-p}(y-f(\\hat{\\theta}))^T(y-f(\\hat{\\theta})) $$\n",
    "Here $p=3$"
   ]
  },
  {
   "cell_type": "code",
   "execution_count": null,
   "metadata": {},
   "outputs": [],
   "source": []
  },
  {
   "cell_type": "markdown",
   "metadata": {},
   "source": [
    "### 5"
   ]
  },
  {
   "cell_type": "markdown",
   "metadata": {},
   "source": [
    "$$\\sqrt{n}(\\hat{\\Theta}-\\Theta) \\sim \\mathcal{N}_{p+1}(0,I^{-1})$$\n",
    "Here $I^{-1}$ is inverse of fisher information matrix. $p=3$ and $\\Theta=(\\theta,\\sigma^2)$"
   ]
  },
  {
   "cell_type": "code",
   "execution_count": null,
   "metadata": {},
   "outputs": [],
   "source": []
  }
 ],
 "metadata": {
  "interpreter": {
   "hash": "365d70965140afb04a698773bfdd31483bc82432b779112c2a78b5de7c16d125"
  },
  "kernelspec": {
   "display_name": "Python 3.8.5 ('base')",
   "language": "python",
   "name": "python3"
  },
  "language_info": {
   "codemirror_mode": {
    "name": "ipython",
    "version": 3
   },
   "file_extension": ".py",
   "mimetype": "text/x-python",
   "name": "python",
   "nbconvert_exporter": "python",
   "pygments_lexer": "ipython3",
   "version": "3.8.5"
  },
  "orig_nbformat": 4
 },
 "nbformat": 4,
 "nbformat_minor": 2
}
