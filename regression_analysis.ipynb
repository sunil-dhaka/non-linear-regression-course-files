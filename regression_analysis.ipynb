{
 "cells": [
  {
   "cell_type": "markdown",
   "metadata": {},
   "source": [
    "Consider the data set you have received in your e-mail, which is of the form (t,y(t)). Try\n",
    "to fit the following model to the given data set:\n",
    "$$y(t) = \\alpha_2 + \\alpha_2e^{\\beta t} + \\epsilon(t)$$\n",
    "Let us assume that ${\\epsilon(t)}$ is a sequence of i.i.d. normal random variable with mean zero and\n",
    "finite variance. Analyze the data keeping the following points in mind, and write a report\n",
    "based on that.\n",
    "1. Plot the data.\n",
    "2. Plot the residual sum of squares as a function of β.\n",
    "3. Find the least squares estimators of α1, α2 and β based on the Gauss-Newton method.\n",
    "Clearly mention which initial value you are taking? Does your result affect by the\n",
    "choice of the initial guess?\n",
    "4. Find the estimate of σ2.\n",
    "5. Find the associated confidence intervals based on the Fisher information matrix.\n",
    "6. Plot the residuals.\n",
    "7. Test whether it satisfies the normality assumption or not?\n",
    "8. Use any standard package (say R) and try to obtain the least squares estimators of\n",
    "the unknown parameters based on three dimensional optimization problem. Repeat\n",
    "all the above questions. Indicate which initial values you are taking and why?\n",
    "9. What will you do to fit the following model\n",
    "$$\n",
    "y(t) = \\alpha_1 e^{\\beta_1 t} + \\alpha_2 e^{\\beta_2 t} + \\epsilon(t)\n",
    "$$\n",
    "to the same data set? Let us assume that $\\epsilon(t)$ satisfies the same assumption as above."
   ]
  },
  {
   "cell_type": "markdown",
   "metadata": {},
   "source": [
    "### setup"
   ]
  },
  {
   "cell_type": "code",
   "execution_count": 415,
   "metadata": {},
   "outputs": [],
   "source": [
    "import pandas as pd\n",
    "import numpy as np\n",
    "import statsmodels.api as sm\n",
    "import statsmodels.formula.api as smf\n",
    "from scipy import stats\n",
    "import matplotlib.pyplot as plt\n",
    "import warnings\n",
    "warnings.filterwarnings(action='ignore')"
   ]
  },
  {
   "cell_type": "code",
   "execution_count": 416,
   "metadata": {},
   "outputs": [],
   "source": [
    "\n",
    "data=pd.read_csv('data-39.txt',header=None,sep=r'\\s+')\n",
    "# use regex expressions"
   ]
  },
  {
   "cell_type": "code",
   "execution_count": 417,
   "metadata": {},
   "outputs": [],
   "source": [
    "x=data.iloc[:,0]\n",
    "y=data.iloc[:,1]"
   ]
  },
  {
   "cell_type": "code",
   "execution_count": 418,
   "metadata": {},
   "outputs": [
    {
     "data": {
      "text/html": [
       "<div>\n",
       "<style scoped>\n",
       "    .dataframe tbody tr th:only-of-type {\n",
       "        vertical-align: middle;\n",
       "    }\n",
       "\n",
       "    .dataframe tbody tr th {\n",
       "        vertical-align: top;\n",
       "    }\n",
       "\n",
       "    .dataframe thead th {\n",
       "        text-align: right;\n",
       "    }\n",
       "</style>\n",
       "<table border=\"1\" class=\"dataframe\">\n",
       "  <thead>\n",
       "    <tr style=\"text-align: right;\">\n",
       "      <th></th>\n",
       "      <th>0</th>\n",
       "      <th>1</th>\n",
       "    </tr>\n",
       "  </thead>\n",
       "  <tbody>\n",
       "    <tr>\n",
       "      <th>0</th>\n",
       "      <td>0.02</td>\n",
       "      <td>2.3031</td>\n",
       "    </tr>\n",
       "    <tr>\n",
       "      <th>1</th>\n",
       "      <td>0.03</td>\n",
       "      <td>2.3992</td>\n",
       "    </tr>\n",
       "    <tr>\n",
       "      <th>2</th>\n",
       "      <td>0.05</td>\n",
       "      <td>2.3923</td>\n",
       "    </tr>\n",
       "    <tr>\n",
       "      <th>3</th>\n",
       "      <td>0.06</td>\n",
       "      <td>2.4571</td>\n",
       "    </tr>\n",
       "    <tr>\n",
       "      <th>4</th>\n",
       "      <td>0.08</td>\n",
       "      <td>2.3859</td>\n",
       "    </tr>\n",
       "  </tbody>\n",
       "</table>\n",
       "</div>"
      ],
      "text/plain": [
       "      0       1\n",
       "0  0.02  2.3031\n",
       "1  0.03  2.3992\n",
       "2  0.05  2.3923\n",
       "3  0.06  2.4571\n",
       "4  0.08  2.3859"
      ]
     },
     "execution_count": 418,
     "metadata": {},
     "output_type": "execute_result"
    }
   ],
   "source": [
    "data.head()"
   ]
  },
  {
   "cell_type": "markdown",
   "metadata": {},
   "source": [
    "### 1"
   ]
  },
  {
   "cell_type": "code",
   "execution_count": 419,
   "metadata": {},
   "outputs": [
    {
     "data": {
      "image/png": "[encoded data removed]",
      "text/plain": [
       "<Figure size 432x288 with 1 Axes>"
      ]
     },
     "metadata": {
      "needs_background": "light"
     },
     "output_type": "display_data"
    }
   ],
   "source": [
    "plt.plot(x,y,c='m')\n",
    "plt.xlabel('t')\n",
    "plt.ylabel('y(t)')\n",
    "plt.savefig('plots/q1.png')\n",
    "plt.show()"
   ]
  },
  {
   "cell_type": "markdown",
   "metadata": {},
   "source": [
    "### 2"
   ]
  },
  {
   "cell_type": "code",
   "execution_count": 420,
   "metadata": {},
   "outputs": [
    {
     "name": "stdout",
     "output_type": "stream",
     "text": [
      "minimum sse 0.11726358664701811\n"
     ]
    },
    {
     "data": {
      "image/png": "[encoded data removed]",
      "text/plain": [
       "<Figure size 432x288 with 1 Axes>"
      ]
     },
     "metadata": {
      "needs_background": "light"
     },
     "output_type": "display_data"
    }
   ],
   "source": [
    "'''how one chooses which beta points to consider: trial and error'''\n",
    "beta_points=np.linspace(0,10,200) \n",
    "sse_points=[]\n",
    "for beta_fixed in beta_points:\n",
    "    x_fixed=np.exp(beta_fixed*x)\n",
    "    y_fixed=y\n",
    "    tmp_data=pd.DataFrame({'t':x_fixed,'y_t':y_fixed})\n",
    "    model=smf.ols('y_t ~ t',tmp_data).fit()\n",
    "    # sse_value=sum((model.fittedvalues-np.mean(tmp_data['y_t']))**2)\n",
    "    sse_value=sum((model.fittedvalues-tmp_data['y_t'])**2)\n",
    "    sse_points.append(sse_value)\n",
    "\n",
    "min_sse=min(sse_points)\n",
    "print('minimum sse',min_sse)\n",
    "best_beta=beta_points[sse_points.index(min_sse)]\n",
    "plt.plot(beta_points,sse_points,label='sse-beta')\n",
    "plt.axvline(best_beta,label='best-beta='+str(round(best_beta,3)),c='m')\n",
    "plt.xlabel('beta values')\n",
    "plt.ylabel('SSR')\n",
    "plt.legend()\n",
    "plt.savefig('plots/q2.png')\n",
    "plt.show()"
   ]
  },
  {
   "cell_type": "markdown",
   "metadata": {},
   "source": [
    "For $\\beta$, we choose the value of $\\beta$ that gives minimum residual sum of squares in part-2. If we fix $\\beta$ then we have a simple linear regression model. We get initial values for $\\alpha_1, \\alpha_2$ by OLS method.\n",
    "\n",
    "When we have all parameters we can compute SSR, and then plot it against $\\beta$."
   ]
  },
  {
   "cell_type": "markdown",
   "metadata": {},
   "source": [
    "### 3"
   ]
  },
  {
   "cell_type": "code",
   "execution_count": 421,
   "metadata": {},
   "outputs": [],
   "source": [
    "def get_residual(params,y=y,x=x):\n",
    "    \"\"\"\n",
    "    function to get residual value\n",
    "    \"\"\"\n",
    "    alpha1=params[0]\n",
    "    alpha2=params[1]\n",
    "    beta=params[2]\n",
    "\n",
    "    y_estimate=alpha1+alpha2*np.exp(beta*x)\n",
    "\n",
    "    ssr=sum((y_estimate-y)**2)\n",
    "\n",
    "    return ssr"
   ]
  },
  {
   "cell_type": "code",
   "execution_count": 422,
   "metadata": {},
   "outputs": [],
   "source": [
    "def gauss_newton(start_theta,n_iter=1000):\n",
    "    \"\"\"\n",
    "    TODO: need to implement such that it can handle singular matrices \n",
    "    TODO: implement step factor version\n",
    "    \"\"\"\n",
    "    curr_theta=start_theta\n",
    "    thetas_values=[curr_theta]\n",
    "    ssr_values=[get_residual(curr_theta)]\n",
    "    for i in range(n_iter):\n",
    "        # print(i)\n",
    "        step_factor=1\n",
    "        curr_alpha1=curr_theta[0]\n",
    "        curr_alpha2=curr_theta[1]\n",
    "        curr_beta=curr_theta[2]\n",
    "\n",
    "        e_beta1=sum(np.exp(curr_beta*x))\n",
    "        e_beta2=sum(np.exp(2*curr_beta*x))\n",
    "        # F^T.F    \n",
    "        C_matrix=np.array([\n",
    "            [len(x),e_beta1,curr_beta*curr_alpha2*e_beta1],\n",
    "            [e_beta1,e_beta2,curr_beta*curr_alpha2*e_beta2],\n",
    "            [curr_beta*curr_alpha2*e_beta1,curr_beta*curr_alpha2*e_beta2,(curr_beta**2)*(curr_alpha2**2)*e_beta2]\n",
    "        ])\n",
    "    \n",
    "        F_matrix=np.array([\n",
    "            [1]*len(x),\n",
    "            np.exp(curr_beta*x),\n",
    "            curr_beta*curr_alpha2*np.exp(curr_beta*x)\n",
    "        ])\n",
    "        curr_theta=curr_theta+np.dot(np.dot(np.linalg.inv(C_matrix),F_matrix),np.array(y-(curr_alpha1+curr_alpha2*np.exp(curr_beta*x))))\n",
    "        tmp_ssr_value=get_residual(curr_theta)\n",
    "        \"\"\"\n",
    "        only considering thoes steps that lower ssr value\n",
    "        \"\"\"\n",
    "        if tmp_ssr_value<=ssr_values[-1]:\n",
    "            thetas_values.append(curr_theta)\n",
    "            ssr_values.append(tmp_ssr_value)\n",
    "    return {'theta_values':thetas_values,'ssr_values':ssr_values}"
   ]
  },
  {
   "cell_type": "markdown",
   "metadata": {},
   "source": [
    "simple ans is that convergence itself depends on the starting values, and when values are bad it just goes out of bounds like really small or large values.\n",
    "\n",
    "starting value for beta needs to be good enough then we can get linear estimates of \\alpha_1 and \\alpha_2\n",
    "\n",
    "one solution is to only consider theta improvements measured by ssr value\n",
    "\n",
    "also can try with step factor modification"
   ]
  },
  {
   "cell_type": "code",
   "execution_count": 423,
   "metadata": {},
   "outputs": [],
   "source": [
    "# start values\n",
    "beta_start=best_beta\n",
    "x_fixed=np.exp(beta_start*x)\n",
    "y_fixed=y\n",
    "tmp_data=pd.DataFrame({'t':x_fixed,'y_t':y_fixed})\n",
    "model=smf.ols('y_t ~ t',tmp_data).fit()\n",
    "\n",
    "a1=model.params[0]\n",
    "a2=model.params[1]\n",
    "\n",
    "tmp_estimate=gauss_newton(np.array([a1,a2,beta_start]))"
   ]
  },
  {
   "cell_type": "code",
   "execution_count": 424,
   "metadata": {},
   "outputs": [],
   "source": [
    "chain_result=gauss_newton(np.array([3,0.2,2.5]))\n",
    "theta_estimate=chain_result['theta_values'][-1]"
   ]
  },
  {
   "cell_type": "markdown",
   "metadata": {},
   "source": [
    "- it is very sensetive to the starting value of theta\n",
    "- how do we get good starting value for this method\n",
    "    - might use linear algebra estimated values; or might use values that are near to linear-model fitted values\n",
    "- theoratically we should converge if we have good start and give algo enough time to run "
   ]
  },
  {
   "cell_type": "markdown",
   "metadata": {},
   "source": [
    "### 4"
   ]
  },
  {
   "cell_type": "markdown",
   "metadata": {},
   "source": [
    "$$\\hat{\\sigma^2}=\\frac{1}{n-p}(y-f(\\hat{\\theta}))^TV^{-1}(y-f(\\hat{\\theta})) $$\n",
    "Here $p=3$ and $V^{-1}=I$"
   ]
  },
  {
   "cell_type": "code",
   "execution_count": 425,
   "metadata": {},
   "outputs": [],
   "source": [
    "# lse values obtained from gauss approximation\n",
    "alpha1_lse=theta_estimate[0]\n",
    "alpha2_lse=theta_estimate[1]\n",
    "beta_lse=theta_estimate[2]"
   ]
  },
  {
   "cell_type": "code",
   "execution_count": 426,
   "metadata": {},
   "outputs": [],
   "source": [
    "n=len(y)\n",
    "p=3\n",
    "sigma_estimate=(1/(n-p))*sum((y-(alpha1_lse+alpha2_lse*np.exp(beta_lse*x)))**2)"
   ]
  },
  {
   "cell_type": "code",
   "execution_count": 427,
   "metadata": {},
   "outputs": [
    {
     "data": {
      "text/plain": [
       "0.0019151129746739592"
      ]
     },
     "execution_count": 427,
     "metadata": {},
     "output_type": "execute_result"
    }
   ],
   "source": [
    "sigma_estimate"
   ]
  },
  {
   "cell_type": "markdown",
   "metadata": {},
   "source": [
    "### 5"
   ]
  },
  {
   "cell_type": "markdown",
   "metadata": {},
   "source": [
    "$$\\sqrt{n}(\\hat{\\Theta}-\\Theta) \\sim \\mathcal{N}_{p+1}(0,I^{-1})$$\n",
    "Here $I^{-1}$ is inverse of fisher information matrix. $p=3$ and $\\Theta=(\\theta,\\sigma^2)$"
   ]
  },
  {
   "cell_type": "code",
   "execution_count": 428,
   "metadata": {},
   "outputs": [],
   "source": [
    "# get confidence intervals\n",
    "c=1.96 # for 95% confidence interval\n",
    "\n",
    "curr_alpha1=alpha1_lse\n",
    "curr_alpha2=alpha2_lse\n",
    "curr_beta=beta_lse\n",
    "\n",
    "e_beta1=sum(np.exp(curr_beta*x))\n",
    "e_beta2=sum(np.exp(2*curr_beta*x))\n",
    "\n",
    "C_matrix=np.array([\n",
    "    [len(x),e_beta1,curr_beta*curr_alpha2*e_beta1],\n",
    "    [e_beta1,e_beta2,curr_beta*curr_alpha2*e_beta2],\n",
    "    [curr_beta*curr_alpha2*e_beta1,curr_beta*curr_alpha2*e_beta2,(curr_beta**2)*(curr_alpha2**2)*e_beta2]\n",
    "])\n",
    "\n",
    "inv_C_matrix=sigma_estimate*np.linalg.inv(C_matrix)"
   ]
  },
  {
   "cell_type": "code",
   "execution_count": 429,
   "metadata": {},
   "outputs": [
    {
     "data": {
      "text/plain": [
       "[0.0012566842192857988, 0.0025735417300621196]"
      ]
     },
     "execution_count": 429,
     "metadata": {},
     "output_type": "execute_result"
    }
   ],
   "source": [
    "[sigma_estimate-c*np.sqrt((2*sigma_estimate**2)/(len(x))),sigma_estimate+c*np.sqrt((2*sigma_estimate**2)/(len(x)))]"
   ]
  },
  {
   "cell_type": "code",
   "execution_count": 430,
   "metadata": {},
   "outputs": [
    {
     "data": {
      "text/plain": [
       "[0.8172712450640579, 0.8794758938480357]"
      ]
     },
     "execution_count": 430,
     "metadata": {},
     "output_type": "execute_result"
    }
   ],
   "source": [
    "[alpha1_lse-c*np.sqrt(inv_C_matrix[0][0]),alpha1_lse+c*np.sqrt(inv_C_matrix[0][0])]"
   ]
  },
  {
   "cell_type": "code",
   "execution_count": 431,
   "metadata": {},
   "outputs": [
    {
     "data": {
      "text/plain": [
       "[-265084.2064258973, 265087.11151459976]"
      ]
     },
     "execution_count": 431,
     "metadata": {},
     "output_type": "execute_result"
    }
   ],
   "source": [
    "[alpha2_lse-c*np.sqrt(inv_C_matrix[1][1]),alpha2_lse+c*np.sqrt(inv_C_matrix[1][1])]"
   ]
  },
  {
   "cell_type": "code",
   "execution_count": 432,
   "metadata": {},
   "outputs": [
    {
     "data": {
      "text/plain": [
       "[-142639.2637830291, 142641.8226272242]"
      ]
     },
     "execution_count": 432,
     "metadata": {},
     "output_type": "execute_result"
    }
   ],
   "source": [
    "[beta_lse-c*np.sqrt(inv_C_matrix[2][2]),beta_lse+c*np.sqrt(inv_C_matrix[2][2])]"
   ]
  },
  {
   "cell_type": "markdown",
   "metadata": {},
   "source": [
    "### 6"
   ]
  },
  {
   "cell_type": "code",
   "execution_count": 433,
   "metadata": {},
   "outputs": [],
   "source": [
    "residuals=y-(alpha1_lse+alpha2_lse*np.exp(beta_lse*x))"
   ]
  },
  {
   "cell_type": "code",
   "execution_count": 434,
   "metadata": {},
   "outputs": [
    {
     "data": {
      "image/png": "[encoded data removed]",
      "text/plain": [
       "<Figure size 432x288 with 1 Axes>"
      ]
     },
     "metadata": {
      "needs_background": "light"
     },
     "output_type": "display_data"
    }
   ],
   "source": [
    "sm.ProbPlot(residuals).qqplot(line='s')\n",
    "plt.title('quantile plot of residuals')\n",
    "plt.savefig('plots/q6-1.png')\n",
    "plt.show()"
   ]
  },
  {
   "cell_type": "markdown",
   "metadata": {},
   "source": [
    "If the residuals are normally distributed, the data points of the normal probability plot will fall along a straight\n",
    "line. Major deviations from this ideal picture reflect departures from normality. Stragglers at either end of the\n",
    "normal probability plot indicate outliers, curvature at both ends of the plot indicates long or short distributional\n",
    "tails, convex or concave curvature indicates a lack of symmetry, and gaps, plateaus, or segmentation in the normal\n",
    "probability plot may require a closer examination of the data or model. We do not recommend that you use this\n",
    "diagnostic with small sample sizes."
   ]
  },
  {
   "cell_type": "markdown",
   "metadata": {},
   "source": [
    "### 7"
   ]
  },
  {
   "cell_type": "markdown",
   "metadata": {},
   "source": [
    "by normality assumption we mean:\n",
    "\n",
    "    the residuals should be approximately normal\n",
    "    the residuals should have the same variance\n",
    "    the residuals should be independent"
   ]
  },
  {
   "cell_type": "code",
   "execution_count": 435,
   "metadata": {},
   "outputs": [
    {
     "data": {
      "image/png": "[encoded data removed]",
      "text/plain": [
       "<Figure size 432x288 with 1 Axes>"
      ]
     },
     "metadata": {
      "needs_background": "light"
     },
     "output_type": "display_data"
    }
   ],
   "source": [
    "plt.plot(residuals,linestyle='none',marker='o')\n",
    "plt.axhline(0,c='m')\n",
    "plt.xlabel('observation number')\n",
    "plt.ylabel('residual')\n",
    "plt.title('residual vs obs. number')\n",
    "plt.savefig('plots/q6-2.png')\n",
    "plt.show()"
   ]
  },
  {
   "cell_type": "markdown",
   "metadata": {},
   "source": [
    "residuals seems to have homogeneous variance \n",
    "\n",
    "When the row number can be equated to time period, this plot lets you see if there is a pattern across time."
   ]
  },
  {
   "cell_type": "code",
   "execution_count": 436,
   "metadata": {},
   "outputs": [
    {
     "data": {
      "image/png": "[encoded data removed]",
      "text/plain": [
       "<Figure size 432x288 with 1 Axes>"
      ]
     },
     "metadata": {
      "needs_background": "light"
     },
     "output_type": "display_data"
    }
   ],
   "source": [
    "plt.scatter(alpha1_lse+alpha2_lse*np.exp(beta_lse*x),residuals)\n",
    "plt.axhline(0,c='m')\n",
    "plt.xlabel('yhat')\n",
    "plt.ylabel('residual')\n",
    "plt.title('residual vs yhat')\n",
    "plt.savefig('plots/q6-3.png')\n",
    "plt.show()"
   ]
  },
  {
   "cell_type": "markdown",
   "metadata": {},
   "source": [
    "This plot should always be examined. The preferred pattern to look for is a point cloud or a horizontal band. A\n",
    "wedge or bowtie pattern is an indicator of nonconstant variance. A sloping or curved band signifies inadequate\n",
    "specification of the model. A sloping band with increasing or decreasing variability could suggest nonconstant\n",
    "variance and inadequate specification of the model."
   ]
  },
  {
   "cell_type": "code",
   "execution_count": 437,
   "metadata": {},
   "outputs": [
    {
     "data": {
      "image/png": "[encoded data removed]",
      "text/plain": [
       "<Figure size 432x288 with 1 Axes>"
      ]
     },
     "metadata": {
      "needs_background": "light"
     },
     "output_type": "display_data"
    }
   ],
   "source": [
    "plt.scatter(x,residuals)\n",
    "plt.axhline(0,c='m')\n",
    "plt.xlabel('x')\n",
    "plt.ylabel('residual')\n",
    "plt.title('residual vs x')\n",
    "plt.savefig('plots/q6-4.png')\n",
    "plt.show()"
   ]
  },
  {
   "cell_type": "markdown",
   "metadata": {},
   "source": [
    "This is a scatter plot of the residuals versus each independent variable. Again, the preferred pattern is a\n",
    "rectangular shape or point cloud. Any nonrandom pattern may require a redefining of the model."
   ]
  },
  {
   "cell_type": "code",
   "execution_count": 438,
   "metadata": {},
   "outputs": [
    {
     "data": {
      "image/png": "[encoded data removed]",
      "text/plain": [
       "<Figure size 432x288 with 1 Axes>"
      ]
     },
     "metadata": {
      "needs_background": "light"
     },
     "output_type": "display_data"
    }
   ],
   "source": [
    "plt.hist(residuals,bins=20,fill=False)\n",
    "plt.xlabel('residual')\n",
    "plt.ylabel('frequencies')\n",
    "plt.title('residual histogram')\n",
    "plt.savefig('plots/q6-5.png')\n",
    "plt.show()"
   ]
  },
  {
   "cell_type": "markdown",
   "metadata": {},
   "source": [
    "residuals also seem to be approximatly normally distributed "
   ]
  },
  {
   "cell_type": "markdown",
   "metadata": {},
   "source": [
    "### 8"
   ]
  },
  {
   "cell_type": "code",
   "execution_count": 439,
   "metadata": {},
   "outputs": [
    {
     "data": {
      "image/png": "[encoded data removed]",
      "text/plain": [
       "<Figure size 576x360 with 1 Axes>"
      ]
     },
     "metadata": {
      "needs_background": "light"
     },
     "output_type": "display_data"
    }
   ],
   "source": [
    "def f(x,alpha1,alpha2,beta):\n",
    "    y=alpha1+alpha2*np.exp(beta*x)\n",
    "    return y\n",
    "\n",
    "y_data=y/max(y)\n",
    "from scipy.optimize import curve_fit\n",
    "popt, pcov = curve_fit(f, x, y_data)# Now we plot our resulting regression model.\n",
    "\n",
    "plt.figure(figsize=(8,5))\n",
    "y_norm= f(x,*popt)\n",
    "# print(y_norm)\n",
    "plt.plot(x,y_data, 'ro', label='data')\n",
    "plt.plot(x,y_norm, linewidth=3.0, label='fit')\n",
    "plt.legend(loc='best')\n",
    "plt.ylabel('y_t')\n",
    "plt.xlabel('t')\n",
    "plt.title('original model')\n",
    "plt.savefig('plots/q8-1.png')\n",
    "plt.show()"
   ]
  },
  {
   "cell_type": "code",
   "execution_count": 440,
   "metadata": {},
   "outputs": [
    {
     "data": {
      "text/plain": [
       "array([0.15296613, 0.22786173, 1.31606528])"
      ]
     },
     "execution_count": 440,
     "metadata": {},
     "output_type": "execute_result"
    }
   ],
   "source": [
    "popt"
   ]
  },
  {
   "cell_type": "code",
   "execution_count": 441,
   "metadata": {},
   "outputs": [
    {
     "data": {
      "text/plain": [
       "11.54092901904606"
      ]
     },
     "execution_count": 441,
     "metadata": {},
     "output_type": "execute_result"
    }
   ],
   "source": [
    "# lse values obtained from gauss approximation\n",
    "alpha1_lse=popt[0]\n",
    "alpha2_lse=popt[1]\n",
    "beta_lse=popt[2]\n",
    "n=len(y)\n",
    "p=3\n",
    "sigma_estimate=(1/(n-p))*sum((y-(alpha1_lse+alpha2_lse*np.exp(beta_lse*x)))**2)\n",
    "sigma_estimate"
   ]
  },
  {
   "cell_type": "code",
   "execution_count": 442,
   "metadata": {},
   "outputs": [],
   "source": [
    "\n",
    "c=1.96 # for 95% confidence interval\n",
    "\n",
    "curr_alpha1=alpha1_lse\n",
    "curr_alpha2=alpha2_lse\n",
    "curr_beta=beta_lse\n",
    "\n",
    "e_beta1=sum(np.exp(curr_beta*x))\n",
    "e_beta2=sum(np.exp(2*curr_beta*x))\n",
    "\n",
    "C_matrix=np.array([\n",
    "    [len(x),e_beta1,curr_beta*curr_alpha2*e_beta1],\n",
    "    [e_beta1,e_beta2,curr_beta*curr_alpha2*e_beta2],\n",
    "    [curr_beta*curr_alpha2*e_beta1,curr_beta*curr_alpha2*e_beta2,(curr_beta**2)*(curr_alpha2**2)*e_beta2]\n",
    "])\n",
    "\n",
    "inv_C_matrix=sigma_estimate*np.linalg.inv(C_matrix)\n",
    "\n"
   ]
  },
  {
   "cell_type": "code",
   "execution_count": 443,
   "metadata": {},
   "outputs": [
    {
     "data": {
      "text/plain": [
       "[7.573079795254298, 15.50877824283782]"
      ]
     },
     "execution_count": 443,
     "metadata": {},
     "output_type": "execute_result"
    }
   ],
   "source": [
    "[sigma_estimate-c*np.sqrt((2*sigma_estimate**2)/(len(x))),sigma_estimate+c*np.sqrt((2*sigma_estimate**2)/(len(x)))]"
   ]
  },
  {
   "cell_type": "code",
   "execution_count": 444,
   "metadata": {},
   "outputs": [
    {
     "data": {
      "text/plain": [
       "[-2.203784923996614, 2.5097171749476272]"
      ]
     },
     "execution_count": 444,
     "metadata": {},
     "output_type": "execute_result"
    }
   ],
   "source": [
    "[alpha1_lse-c*np.sqrt(inv_C_matrix[0][0]),alpha1_lse+c*np.sqrt(inv_C_matrix[0][0])]"
   ]
  },
  {
   "cell_type": "code",
   "execution_count": 445,
   "metadata": {},
   "outputs": [
    {
     "data": {
      "text/plain": [
       "[nan, nan]"
      ]
     },
     "execution_count": 445,
     "metadata": {},
     "output_type": "execute_result"
    }
   ],
   "source": [
    "[alpha2_lse-c*np.sqrt(inv_C_matrix[1][1]),alpha2_lse+c*np.sqrt(inv_C_matrix[1][1])]"
   ]
  },
  {
   "cell_type": "code",
   "execution_count": 446,
   "metadata": {},
   "outputs": [
    {
     "data": {
      "text/plain": [
       "[nan, nan]"
      ]
     },
     "execution_count": 446,
     "metadata": {},
     "output_type": "execute_result"
    }
   ],
   "source": [
    "[beta_lse-c*np.sqrt(inv_C_matrix[2][2]),beta_lse+c*np.sqrt(inv_C_matrix[2][2])]"
   ]
  },
  {
   "cell_type": "code",
   "execution_count": 447,
   "metadata": {},
   "outputs": [
    {
     "data": {
      "image/png": "[encoded data removed]",
      "text/plain": [
       "<Figure size 432x288 with 1 Axes>"
      ]
     },
     "metadata": {
      "needs_background": "light"
     },
     "output_type": "display_data"
    },
    {
     "data": {
      "image/png": "[encoded data removed]",
      "text/plain": [
       "<Figure size 432x288 with 1 Axes>"
      ]
     },
     "metadata": {
      "needs_background": "light"
     },
     "output_type": "display_data"
    },
    {
     "data": {
      "image/png": "[encoded data removed]",
      "text/plain": [
       "<Figure size 432x288 with 1 Axes>"
      ]
     },
     "metadata": {
      "needs_background": "light"
     },
     "output_type": "display_data"
    },
    {
     "data": {
      "image/png": "[encoded data removed]",
      "text/plain": [
       "<Figure size 432x288 with 1 Axes>"
      ]
     },
     "metadata": {
      "needs_background": "light"
     },
     "output_type": "display_data"
    },
    {
     "data": {
      "image/png": "[encoded data removed]",
      "text/plain": [
       "<Figure size 432x288 with 1 Axes>"
      ]
     },
     "metadata": {
      "needs_background": "light"
     },
     "output_type": "display_data"
    }
   ],
   "source": [
    "\n",
    "### 6\n",
    "residuals=y-(alpha1_lse+alpha2_lse*np.exp(beta_lse*x))\n",
    "sm.ProbPlot(residuals).qqplot(line='s')\n",
    "plt.title('quantile plot of residuals')\n",
    "plt.show()\n",
    "\n",
    "plt.plot(residuals,linestyle='none',marker='o')\n",
    "plt.axhline(0,c='m')\n",
    "plt.xlabel('observation number')\n",
    "plt.ylabel('residual')\n",
    "plt.title('residual vs obs. number')\n",
    "plt.show()\n",
    "\n",
    "plt.scatter(alpha1_lse+alpha2_lse*np.exp(beta_lse*x),residuals)\n",
    "plt.axhline(0,c='m')\n",
    "plt.xlabel('yhat')\n",
    "plt.ylabel('residual')\n",
    "plt.title('residual vs yhat')\n",
    "plt.show()\n",
    "\n",
    "plt.scatter(x,residuals)\n",
    "plt.axhline(0,c='m')\n",
    "plt.xlabel('x')\n",
    "plt.ylabel('residual')\n",
    "plt.title('residual vs x')\n",
    "plt.show()\n",
    "\n",
    "plt.hist(residuals,bins=20,fill=False)\n",
    "plt.xlabel('residual')\n",
    "plt.ylabel('frequencies')\n",
    "plt.show()"
   ]
  },
  {
   "cell_type": "markdown",
   "metadata": {},
   "source": [
    "### 9"
   ]
  },
  {
   "cell_type": "code",
   "execution_count": 448,
   "metadata": {},
   "outputs": [
    {
     "data": {
      "image/png": "[encoded data removed]",
      "text/plain": [
       "<Figure size 576x360 with 1 Axes>"
      ]
     },
     "metadata": {
      "needs_background": "light"
     },
     "output_type": "display_data"
    }
   ],
   "source": [
    "def f_mod(x,alpha1,alpha2,beta1,beta2):\n",
    "    y=alpha1*np.exp(beta1*x)+alpha2*np.exp(beta2*x)\n",
    "    return y\n",
    "\n",
    "y_data=y/max(y)\n",
    "from scipy.optimize import curve_fit\n",
    "popt, pcov = curve_fit(f_mod, x, y_data)\n",
    "# Now we plot our resulting regression model.\n",
    "\n",
    "plt.figure(figsize=(8,5))\n",
    "y_norm= f_mod(x,*popt)\n",
    "# print(y_norm)\n",
    "plt.plot(x,y_data, 'ro', label='data')\n",
    "plt.plot(x,y_norm, linewidth=3.0, label='fit')\n",
    "plt.legend(loc='best')\n",
    "plt.ylabel('y_t')\n",
    "plt.xlabel('t')\n",
    "plt.title('modified model')\n",
    "plt.savefig('plots/q9-1.png')\n",
    "plt.show()"
   ]
  },
  {
   "cell_type": "code",
   "execution_count": 449,
   "metadata": {},
   "outputs": [
    {
     "data": {
      "text/plain": [
       "array([0.35676403, 0.02127987, 0.76035054, 2.43343039])"
      ]
     },
     "execution_count": 449,
     "metadata": {},
     "output_type": "execute_result"
    }
   ],
   "source": [
    "# model fitted values\n",
    "popt"
   ]
  }
 ],
 "metadata": {
  "interpreter": {
   "hash": "365d70965140afb04a698773bfdd31483bc82432b779112c2a78b5de7c16d125"
  },
  "kernelspec": {
   "display_name": "Python 3.8.5 ('base')",
   "language": "python",
   "name": "python3"
  },
  "language_info": {
   "codemirror_mode": {
    "name": "ipython",
    "version": 3
   },
   "file_extension": ".py",
   "mimetype": "text/x-python",
   "name": "python",
   "nbconvert_exporter": "python",
   "pygments_lexer": "ipython3",
   "version": "3.8.5"
  },
  "orig_nbformat": 4
 },
 "nbformat": 4,
 "nbformat_minor": 2
}
